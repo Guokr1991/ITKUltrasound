{
 "metadata": {
  "name": "",
  "signature": "sha256:6d6247b9c5b88bf07dfca2c983416f596bbedde7cc526916783bad6d96694eec"
 },
 "nbformat": 3,
 "nbformat_minor": 0,
 "worksheets": [
  {
   "cells": [
    {
     "cell_type": "heading",
     "level": 3,
     "metadata": {},
     "source": [
      "Data Directory"
     ]
    },
    {
     "cell_type": "code",
     "collapsed": false,
     "input": [
      "data_dir = '/home/matt/bin/ITK2-Wrap-Release/ExternalData/Modules/External/ITKUltrasound/'"
     ],
     "language": "python",
     "metadata": {},
     "outputs": [],
     "prompt_number": 1
    },
    {
     "cell_type": "heading",
     "level": 3,
     "metadata": {},
     "source": [
      "Imports"
     ]
    },
    {
     "cell_type": "code",
     "collapsed": false,
     "input": [
      "import itk\n",
      "from matplotlib import pyplot as plt\n",
      "import os\n",
      "import sys\n",
      "import numpy as np"
     ],
     "language": "python",
     "metadata": {},
     "outputs": [],
     "prompt_number": 2
    },
    {
     "cell_type": "code",
     "collapsed": false,
     "input": [
      "%matplotlib nbagg"
     ],
     "language": "python",
     "metadata": {},
     "outputs": [],
     "prompt_number": 3
    },
    {
     "cell_type": "heading",
     "level": 3,
     "metadata": {},
     "source": [
      "BMode without Time Gain Compensation (TGC)"
     ]
    },
    {
     "cell_type": "code",
     "collapsed": false,
     "input": [
      "import itkConfig\n",
      "Dimension = 2\n",
      "IntegerPixelType = itk.SS\n",
      "IntegerImageType = itk.CurvilinearArraySpecialCoordinatesImage[IntegerPixelType, Dimension]\n",
      "RealPixelType = itk.F\n",
      "RealImageType = itk.CurvilinearArraySpecialCoordinatesImage[RealPixelType, Dimension]\n",
      "ComplexPixelType = itk.complex[RealPixelType]\n",
      "ComplexImageType = itk.CurvilinearArraySpecialCoordinatesImage[ComplexPixelType, Dimension]\n",
      "ScanConvertedImageType = itk.Image[RealPixelType, Dimension]"
     ],
     "language": "python",
     "metadata": {},
     "outputs": [],
     "prompt_number": 4
    },
    {
     "cell_type": "code",
     "collapsed": false,
     "input": [
      "input_filename = os.path.join(data_dir, 'test', 'Input', 'EyeRoundOverChuck_5.0MHz_20V.mha')"
     ],
     "language": "python",
     "metadata": {},
     "outputs": [],
     "prompt_number": 5
    },
    {
     "cell_type": "code",
     "collapsed": false,
     "input": [
      "ReaderType = itk.ImageFileReader[IntegerImageType]\n",
      "reader = ReaderType.New()\n",
      "reader.SetFileName(input_filename)\n",
      "reader.Update()"
     ],
     "language": "python",
     "metadata": {},
     "outputs": [],
     "prompt_number": 6
    },
    {
     "cell_type": "code",
     "collapsed": false,
     "input": [
      "TGCType = itk.TimeGainCompensationImageFilter[IntegerImageType]\n",
      "tgc_filter= TGCType.New()\n",
      "tgc_filter.SetInput(reader.GetOutput())\n",
      "tgc_filter.Update()"
     ],
     "language": "python",
     "metadata": {},
     "outputs": [],
     "prompt_number": 7
    },
    {
     "cell_type": "code",
     "collapsed": false,
     "input": [
      "CasterType = itk.CastImageFilter[IntegerImageType, RealImageType]\n",
      "caster = CasterType.New()\n",
      "caster.SetInput(tgc_filter.GetOutput())\n",
      "caster.Update()"
     ],
     "language": "python",
     "metadata": {},
     "outputs": [],
     "prompt_number": 8
    },
    {
     "cell_type": "code",
     "collapsed": false,
     "input": [
      "BModeFilterType = itk.BModeImageFilter[RealImageType, RealImageType,\n",
      "                                       ComplexImageType]\n",
      "bmode_filter = BModeFilterType.New()\n",
      "bmode_filter.SetInput(caster.GetOutput())\n",
      "bmode_filter.Update()"
     ],
     "language": "python",
     "metadata": {},
     "outputs": [],
     "prompt_number": 9
    },
    {
     "cell_type": "code",
     "collapsed": false,
     "input": [
      "curvilinear_array_image = bmode_filter.GetOutput()\n",
      "input_size = curvilinear_array_image.GetLargestPossibleRegion().GetSize()\n",
      "lateral_angular_separation = (np.pi  / 2.0 + 0.5) / (input_size[1] - 1)\n",
      "curvilinear_array_image.SetLateralAngularSeparation(lateral_angular_separation)\n",
      "radius_start = 7.0\n",
      "radius_stop = 112.5\n",
      "curvilinear_array_image.SetFirstSampleDistance(radius_start)\n",
      "curvilinear_array_image.SetRadiusSampleSize( (radius_stop - radius_start) / (input_size[0] - 1) )"
     ],
     "language": "python",
     "metadata": {},
     "outputs": [],
     "prompt_number": 10
    },
    {
     "cell_type": "code",
     "collapsed": false,
     "input": [
      "curvilinear_array_image.GetLateralAngularSeparation()"
     ],
     "language": "python",
     "metadata": {},
     "outputs": [
      {
       "metadata": {},
       "output_type": "pyout",
       "prompt_number": 11,
       "text": [
        "0.008628318028312069"
       ]
      }
     ],
     "prompt_number": 11
    },
    {
     "cell_type": "code",
     "collapsed": false,
     "input": [
      "ResamplerType = itk.ResampleImageFilter[RealImageType, ScanConvertedImageType]\n",
      "resampler = ResamplerType.New()\n",
      "resampler.SetInput(curvilinear_array_image)\n",
      "output_size = (800, 800)\n",
      "resampler.SetSize(output_size)\n",
      "output_spacing = (0.15, 0.15)\n",
      "resampler.SetOutputSpacing(output_spacing)\n",
      "output_origin = [0, 0]\n",
      "output_origin[0] = output_size[0] * output_spacing[0] / -2.0\n",
      "output_origin[1] = radius_start * np.cos(np.pi / 4.0)\n",
      "resampler.SetOutputOrigin(output_origin)\n",
      "resampler.Update()"
     ],
     "language": "python",
     "metadata": {},
     "outputs": [],
     "prompt_number": 12
    },
    {
     "cell_type": "code",
     "collapsed": false,
     "input": [
      "bmode = resampler.GetOutput()\n",
      "bmode_array = itk.PyBuffer[ScanConvertedImageType].GetArrayFromImage(bmode)\n",
      "print(bmode_array.max())"
     ],
     "language": "python",
     "metadata": {},
     "outputs": [
      {
       "output_type": "stream",
       "stream": "stdout",
       "text": [
        "0.0\n"
       ]
      }
     ],
     "prompt_number": 13
    },
    {
     "cell_type": "code",
     "collapsed": false,
     "input": [
      "bmode_array = itk.PyBuffer[ScanConvertedImageType].GetArrayFromImage(bmode)"
     ],
     "language": "python",
     "metadata": {},
     "outputs": [],
     "prompt_number": 14
    },
    {
     "cell_type": "code",
     "collapsed": false,
     "input": [
      "WriterType = itk.ImageFileWriter[RealImageType]\n",
      "writer = WriterType.New()\n",
      "writer.SetFileName('/tmp/test.mha')\n",
      "writer.SetInput(curvilinear_array_image)\n",
      "writer.Update()"
     ],
     "language": "python",
     "metadata": {},
     "outputs": [],
     "prompt_number": 15
    },
    {
     "cell_type": "code",
     "collapsed": false,
     "input": [],
     "language": "python",
     "metadata": {},
     "outputs": [],
     "prompt_number": 15
    }
   ],
   "metadata": {}
  }
 ]
}